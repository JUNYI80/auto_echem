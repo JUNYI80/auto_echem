{
 "cells": [
  {
   "cell_type": "markdown",
   "metadata": {},
   "source": [
    "Install the auto_echem package:"
   ]
  },
  {
   "cell_type": "code",
   "execution_count": 1,
   "metadata": {},
   "outputs": [
    {
     "name": "stdout",
     "output_type": "stream",
     "text": [
      "Collecting git+https://github.com/lfo96/auto_echem.git\n",
      "  Cloning https://github.com/lfo96/auto_echem.git to c:\\users\\loren\\appdata\\local\\temp\\pip-req-build-lv25x3eu\n",
      "  Resolved https://github.com/lfo96/auto_echem.git to commit db5da2556b0e33df6aacf8e8bec7651a27988153\n",
      "  Preparing metadata (setup.py): started\n",
      "  Preparing metadata (setup.py): finished with status 'done'\n",
      "Requirement already satisfied: numpy in c:\\users\\loren\\anaconda3\\envs\\data_analysis\\lib\\site-packages (from Auto-EChem==0.0.1) (1.23.4)\n",
      "Requirement already satisfied: scipy in c:\\users\\loren\\anaconda3\\envs\\data_analysis\\lib\\site-packages (from Auto-EChem==0.0.1) (1.9.3)\n",
      "Requirement already satisfied: galvani in c:\\users\\loren\\anaconda3\\envs\\data_analysis\\lib\\site-packages (from Auto-EChem==0.0.1) (0.2.1)\n",
      "Requirement already satisfied: impedance in c:\\users\\loren\\anaconda3\\envs\\data_analysis\\lib\\site-packages (from Auto-EChem==0.0.1) (1.4.1)\n",
      "Requirement already satisfied: gspread in c:\\users\\loren\\anaconda3\\envs\\data_analysis\\lib\\site-packages (from Auto-EChem==0.0.1) (5.6.2)\n",
      "Requirement already satisfied: google-auth-oauthlib>=0.4.1 in c:\\users\\loren\\anaconda3\\envs\\data_analysis\\lib\\site-packages (from gspread->Auto-EChem==0.0.1) (0.7.1)\n",
      "Requirement already satisfied: google-auth>=1.12.0 in c:\\users\\loren\\anaconda3\\envs\\data_analysis\\lib\\site-packages (from gspread->Auto-EChem==0.0.1) (2.14.1)\n",
      "Requirement already satisfied: altair>=3.0 in c:\\users\\loren\\anaconda3\\envs\\data_analysis\\lib\\site-packages (from impedance->Auto-EChem==0.0.1) (4.2.0)\n",
      "Requirement already satisfied: matplotlib>=3.0 in c:\\users\\loren\\anaconda3\\envs\\data_analysis\\lib\\site-packages (from impedance->Auto-EChem==0.0.1) (3.6.2)\n",
      "Requirement already satisfied: toolz in c:\\users\\loren\\anaconda3\\envs\\data_analysis\\lib\\site-packages (from altair>=3.0->impedance->Auto-EChem==0.0.1) (0.12.0)\n",
      "Requirement already satisfied: jinja2 in c:\\users\\loren\\anaconda3\\envs\\data_analysis\\lib\\site-packages (from altair>=3.0->impedance->Auto-EChem==0.0.1) (3.1.2)\n",
      "Requirement already satisfied: jsonschema>=3.0 in c:\\users\\loren\\anaconda3\\envs\\data_analysis\\lib\\site-packages (from altair>=3.0->impedance->Auto-EChem==0.0.1) (4.17.0)\n",
      "Requirement already satisfied: pandas>=0.18 in c:\\users\\loren\\anaconda3\\envs\\data_analysis\\lib\\site-packages (from altair>=3.0->impedance->Auto-EChem==0.0.1) (1.5.1)\n",
      "Requirement already satisfied: entrypoints in c:\\users\\loren\\anaconda3\\envs\\data_analysis\\lib\\site-packages (from altair>=3.0->impedance->Auto-EChem==0.0.1) (0.4)\n",
      "Requirement already satisfied: cachetools<6.0,>=2.0.0 in c:\\users\\loren\\anaconda3\\envs\\data_analysis\\lib\\site-packages (from google-auth>=1.12.0->gspread->Auto-EChem==0.0.1) (5.2.0)\n",
      "Requirement already satisfied: six>=1.9.0 in c:\\users\\loren\\anaconda3\\envs\\data_analysis\\lib\\site-packages (from google-auth>=1.12.0->gspread->Auto-EChem==0.0.1) (1.16.0)\n",
      "Requirement already satisfied: rsa<5,>=3.1.4 in c:\\users\\loren\\anaconda3\\envs\\data_analysis\\lib\\site-packages (from google-auth>=1.12.0->gspread->Auto-EChem==0.0.1) (4.9)\n",
      "Requirement already satisfied: pyasn1-modules>=0.2.1 in c:\\users\\loren\\anaconda3\\envs\\data_analysis\\lib\\site-packages (from google-auth>=1.12.0->gspread->Auto-EChem==0.0.1) (0.2.8)\n",
      "Requirement already satisfied: requests-oauthlib>=0.7.0 in c:\\users\\loren\\anaconda3\\envs\\data_analysis\\lib\\site-packages (from google-auth-oauthlib>=0.4.1->gspread->Auto-EChem==0.0.1) (1.3.1)\n",
      "Requirement already satisfied: contourpy>=1.0.1 in c:\\users\\loren\\anaconda3\\envs\\data_analysis\\lib\\site-packages (from matplotlib>=3.0->impedance->Auto-EChem==0.0.1) (1.0.6)\n",
      "Requirement already satisfied: packaging>=20.0 in c:\\users\\loren\\anaconda3\\envs\\data_analysis\\lib\\site-packages (from matplotlib>=3.0->impedance->Auto-EChem==0.0.1) (21.3)\n",
      "Requirement already satisfied: kiwisolver>=1.0.1 in c:\\users\\loren\\anaconda3\\envs\\data_analysis\\lib\\site-packages (from matplotlib>=3.0->impedance->Auto-EChem==0.0.1) (1.4.4)\n",
      "Requirement already satisfied: pillow>=6.2.0 in c:\\users\\loren\\anaconda3\\envs\\data_analysis\\lib\\site-packages (from matplotlib>=3.0->impedance->Auto-EChem==0.0.1) (9.3.0)\n",
      "Requirement already satisfied: cycler>=0.10 in c:\\users\\loren\\anaconda3\\envs\\data_analysis\\lib\\site-packages (from matplotlib>=3.0->impedance->Auto-EChem==0.0.1) (0.11.0)\n",
      "Requirement already satisfied: python-dateutil>=2.7 in c:\\users\\loren\\anaconda3\\envs\\data_analysis\\lib\\site-packages (from matplotlib>=3.0->impedance->Auto-EChem==0.0.1) (2.8.2)\n",
      "Requirement already satisfied: fonttools>=4.22.0 in c:\\users\\loren\\anaconda3\\envs\\data_analysis\\lib\\site-packages (from matplotlib>=3.0->impedance->Auto-EChem==0.0.1) (4.38.0)\n",
      "Requirement already satisfied: pyparsing>=2.2.1 in c:\\users\\loren\\anaconda3\\envs\\data_analysis\\lib\\site-packages (from matplotlib>=3.0->impedance->Auto-EChem==0.0.1) (3.0.9)\n",
      "Requirement already satisfied: pyrsistent!=0.17.0,!=0.17.1,!=0.17.2,>=0.14.0 in c:\\users\\loren\\anaconda3\\envs\\data_analysis\\lib\\site-packages (from jsonschema>=3.0->altair>=3.0->impedance->Auto-EChem==0.0.1) (0.19.2)\n",
      "Requirement already satisfied: attrs>=17.4.0 in c:\\users\\loren\\anaconda3\\envs\\data_analysis\\lib\\site-packages (from jsonschema>=3.0->altair>=3.0->impedance->Auto-EChem==0.0.1) (22.1.0)\n",
      "Requirement already satisfied: pytz>=2020.1 in c:\\users\\loren\\anaconda3\\envs\\data_analysis\\lib\\site-packages (from pandas>=0.18->altair>=3.0->impedance->Auto-EChem==0.0.1) (2022.6)\n",
      "Requirement already satisfied: pyasn1<0.5.0,>=0.4.6 in c:\\users\\loren\\anaconda3\\envs\\data_analysis\\lib\\site-packages (from pyasn1-modules>=0.2.1->google-auth>=1.12.0->gspread->Auto-EChem==0.0.1) (0.4.8)\n",
      "Requirement already satisfied: requests>=2.0.0 in c:\\users\\loren\\anaconda3\\envs\\data_analysis\\lib\\site-packages (from requests-oauthlib>=0.7.0->google-auth-oauthlib>=0.4.1->gspread->Auto-EChem==0.0.1) (2.28.1)\n",
      "Requirement already satisfied: oauthlib>=3.0.0 in c:\\users\\loren\\anaconda3\\envs\\data_analysis\\lib\\site-packages (from requests-oauthlib>=0.7.0->google-auth-oauthlib>=0.4.1->gspread->Auto-EChem==0.0.1) (3.2.2)\n",
      "Requirement already satisfied: MarkupSafe>=2.0 in c:\\users\\loren\\anaconda3\\envs\\data_analysis\\lib\\site-packages (from jinja2->altair>=3.0->impedance->Auto-EChem==0.0.1) (2.1.1)\n",
      "Requirement already satisfied: urllib3<1.27,>=1.21.1 in c:\\users\\loren\\anaconda3\\envs\\data_analysis\\lib\\site-packages (from requests>=2.0.0->requests-oauthlib>=0.7.0->google-auth-oauthlib>=0.4.1->gspread->Auto-EChem==0.0.1) (1.26.12)\n",
      "Requirement already satisfied: idna<4,>=2.5 in c:\\users\\loren\\anaconda3\\envs\\data_analysis\\lib\\site-packages (from requests>=2.0.0->requests-oauthlib>=0.7.0->google-auth-oauthlib>=0.4.1->gspread->Auto-EChem==0.0.1) (3.4)\n",
      "Requirement already satisfied: certifi>=2017.4.17 in c:\\users\\loren\\anaconda3\\envs\\data_analysis\\lib\\site-packages (from requests>=2.0.0->requests-oauthlib>=0.7.0->google-auth-oauthlib>=0.4.1->gspread->Auto-EChem==0.0.1) (2022.9.24)\n",
      "Requirement already satisfied: charset-normalizer<3,>=2 in c:\\users\\loren\\anaconda3\\envs\\data_analysis\\lib\\site-packages (from requests>=2.0.0->requests-oauthlib>=0.7.0->google-auth-oauthlib>=0.4.1->gspread->Auto-EChem==0.0.1) (2.1.1)\n",
      "Note: you may need to restart the kernel to use updated packages.\n"
     ]
    },
    {
     "name": "stderr",
     "output_type": "stream",
     "text": [
      "  Running command git clone --filter=blob:none --quiet https://github.com/lfo96/auto_echem.git 'C:\\Users\\loren\\AppData\\Local\\Temp\\pip-req-build-lv25x3eu'\n"
     ]
    }
   ],
   "source": [
    "pip install \"git+https://github.com/lfo96/auto_echem.git\"  "
   ]
  },
  {
   "cell_type": "markdown",
   "metadata": {},
   "source": [
    "This needs to be installed only once. Can be removed from the notebook thereafter."
   ]
  },
  {
   "cell_type": "markdown",
   "metadata": {},
   "source": [
    "Create notebook in a directionary where you also want to store your plots. I usually create a new notebook for every new set of measurements I want to evaluate.  \n",
    "Import the functions from auto_echem into your notebook:"
   ]
  },
  {
   "cell_type": "code",
   "execution_count": null,
   "metadata": {},
   "outputs": [],
   "source": [
    "# Those are the functions you need \n",
    "from auto_echem.Python_scripts.GCPL_functions import *\n",
    "from auto_echem.Python_scripts.general_functions import *\n",
    "from auto_echem.Python_scripts.three_el_functions import *\n",
    "from auto_echem.Python_scripts.auto import *\n",
    "from auto_echem.Python_scripts.impedance_functions import *\n",
    "from auto_echem.Python_scripts.TGA_DSC_functions import *\n",
    "from auto_echem.Python_scripts.XPS_functions import *"
   ]
  },
  {
   "cell_type": "markdown",
   "metadata": {},
   "source": [
    "Next I specify where my biologic data is stored. Conveniently you can map the mp_pastagroup network drive where the data is automatically updated in real time (or whenever backup360 creates its backups...)  \n",
    "Always specify the lab setting file created by ec-lab. It has the .mps format. You can use the test files in \"auto_echem\\testfiles\\20221028_FeF2_bm_R52_US_801307_CCCC_1MLiTFSIPyr13TFSI_1\\20221028_FeF2_bm_R52_US_801307_CCCC_1MLiTFSIPyr13TFSI_1.mps\" to try and run this notebook.\n",
    "\n",
    "note: use r' before your pathway to make sure python can read it properly"
   ]
  },
  {
   "cell_type": "code",
   "execution_count": 1,
   "metadata": {},
   "outputs": [],
   "source": [
    "test_file_p = r\"packagelocation\\auto_echem\\testfiles\\20221028_FeF2_bm_R52_US_801307_CCCC_1MLiTFSIPyr13TFSI_1\\20221028_FeF2_bm_R52_US_801307_CCCC_1MLiTFSIPyr13TFSI_1.mps\""
   ]
  },
  {
   "cell_type": "markdown",
   "metadata": {},
   "source": [
    "From here your analysis is dependent on your measurement file.  \n",
    "auto_echem functions can read in and process various measurements file generated by EC-lab (and BT-lab), but also TGA-DSC, XRD, XPS.\n",
    "\\\n",
    "\\\n",
    "The most generic analysis uses the \"auto\" function. The function reads in the .mps file, extract the specified measurements and subsequently look for through the folder of the setting file for the respesctive .mpr files. Each .mpr file is read in and evaluated respectivly.\n"
   ]
  },
  {
   "cell_type": "code",
   "execution_count": null,
   "metadata": {},
   "outputs": [],
   "source": [
    "test_file = auto(test_file_p, circ = ['RpC'])"
   ]
  },
  {
   "cell_type": "markdown",
   "metadata": {},
   "source": [
    "Usually I let the auto function run over my measurement and continue from there on. The auto function returns a dictionary (dict) with meta data, all the raw data (dict['data']), and the evaluated raw data (dict['eva'])."
   ]
  },
  {
   "cell_type": "markdown",
   "metadata": {},
   "source": [
    "In this example, we analyzed a measurement of a coin cell, starting with a resting period measuring the OCV, PEIS, and looping 23 times. Subsequently the GCPL is measured. \n",
    "\n",
    "The auto function has detected and analyzed OCV, PEIS and GCPL in the measurement folder.\n",
    "The dictionary contains amongst other, the following information: "
   ]
  },
  {
   "cell_type": "code",
   "execution_count": null,
   "metadata": {},
   "outputs": [],
   "source": [
    "\n",
    "print('Your active material mass is (mg):',test_file['active material mass'])\n",
    "print('Your electrode surface area is (cm2):',test_file['electrode surface area'])\n",
    "print('Your test protocol is:',test_file['protocol'])"
   ]
  },
  {
   "cell_type": "markdown",
   "metadata": {},
   "source": [
    "Your raw data is saved into the dictionary and can be accessed by dict['data']. Therein each measurement gets its own entry with a number indicating the chronology of the measurement. For example:"
   ]
  },
  {
   "cell_type": "code",
   "execution_count": null,
   "metadata": {},
   "outputs": [],
   "source": [
    "for meas_data in test_file['data']:\n",
    "    print(meas_data)"
   ]
  },
  {
   "cell_type": "markdown",
   "metadata": {},
   "source": [
    "Similiarily, the raw data (stored in ['data']) is processed, evaluated, and stored in dict['eva']."
   ]
  },
  {
   "cell_type": "code",
   "execution_count": null,
   "metadata": {},
   "outputs": [],
   "source": [
    "for eva_data in test_file['eva']:\n",
    "    print(eva_data)"
   ]
  },
  {
   "cell_type": "markdown",
   "metadata": {},
   "source": [
    "Since there is not much to analzye for OCV measurement, there is no entry in the 'eva' section.  \n",
    "The \"1 PEIS\" contains various information including for example each parameter order by cycle.\n"
   ]
  },
  {
   "cell_type": "code",
   "execution_count": null,
   "metadata": {},
   "outputs": [],
   "source": [
    "test_file['eva']['1 PEIS']['Nyquist parameter']"
   ]
  }
 ],
 "metadata": {
  "kernelspec": {
   "display_name": "Python 3.10.6 ('data_analysis')",
   "language": "python",
   "name": "python3"
  },
  "language_info": {
   "codemirror_mode": {
    "name": "ipython",
    "version": 3
   },
   "file_extension": ".py",
   "mimetype": "text/x-python",
   "name": "python",
   "nbconvert_exporter": "python",
   "pygments_lexer": "ipython3",
   "version": "3.10.6"
  },
  "orig_nbformat": 4,
  "vscode": {
   "interpreter": {
    "hash": "e127a22c1886bdd99c001e616f9ac3a8797e943f7e1c61df27c5acf0d80ad0d6"
   }
  }
 },
 "nbformat": 4,
 "nbformat_minor": 2
}
