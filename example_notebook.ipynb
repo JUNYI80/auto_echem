{
 "cells": [
  {
   "cell_type": "markdown",
   "metadata": {},
   "source": [
    "Install the auto_echem package. You need git installed onto your computer (https://git-scm.com/download/win)"
   ]
  },
  {
   "cell_type": "code",
   "execution_count": null,
   "metadata": {},
   "outputs": [],
   "source": [
    "pip install \"git+https://github.com/lfo96/auto_echem.git\"  "
   ]
  },
  {
   "cell_type": "markdown",
   "metadata": {},
   "source": [
    "This needs to be installed only once. Can be removed from the notebook thereafter.  \n",
    "I reguarly update the functions, so if you want to have the latest version on here either keep your local respitory udpated or run the pip update from time to time."
   ]
  },
  {
   "cell_type": "code",
   "execution_count": 1,
   "metadata": {},
   "outputs": [
    {
     "name": "stdout",
     "output_type": "stream",
     "text": [
      "Collecting git+https://github.com/lfo96/auto_echem.git\n",
      "  Cloning https://github.com/lfo96/auto_echem.git to c:\\users\\quee4145\\appdata\\local\\temp\\pip-req-build-cxuvwc45\n",
      "Requirement already satisfied, skipping upgrade: numpy in c:\\users\\quee4145\\anaconda3\\lib\\site-packages (from Auto-EChem==0.0.1) (1.19.2)\n",
      "Requirement already satisfied, skipping upgrade: scipy in c:\\users\\quee4145\\anaconda3\\lib\\site-packages (from Auto-EChem==0.0.1) (1.5.2)\n",
      "Requirement already satisfied, skipping upgrade: galvani in c:\\users\\quee4145\\anaconda3\\lib\\site-packages (from Auto-EChem==0.0.1) (0.2.1)\n",
      "Requirement already satisfied, skipping upgrade: impedance in c:\\users\\quee4145\\anaconda3\\lib\\site-packages (from Auto-EChem==0.0.1) (1.3.0)\n",
      "Requirement already satisfied, skipping upgrade: gspread in c:\\users\\quee4145\\anaconda3\\lib\\site-packages (from Auto-EChem==0.0.1) (5.4.0)\n",
      "Requirement already satisfied, skipping upgrade: matplotlib>=3.0 in c:\\users\\quee4145\\appdata\\roaming\\python\\python38\\site-packages (from impedance->Auto-EChem==0.0.1) (3.5.2)\n",
      "Requirement already satisfied, skipping upgrade: altair>=3.0 in c:\\users\\quee4145\\anaconda3\\lib\\site-packages (from impedance->Auto-EChem==0.0.1) (4.1.0)\n",
      "Requirement already satisfied, skipping upgrade: google-auth>=1.12.0 in c:\\users\\quee4145\\anaconda3\\lib\\site-packages (from gspread->Auto-EChem==0.0.1) (2.9.1)\n",
      "Requirement already satisfied, skipping upgrade: google-auth-oauthlib>=0.4.1 in c:\\users\\quee4145\\anaconda3\\lib\\site-packages (from gspread->Auto-EChem==0.0.1) (0.5.2)\n",
      "Requirement already satisfied, skipping upgrade: python-dateutil>=2.7 in c:\\users\\quee4145\\anaconda3\\lib\\site-packages (from matplotlib>=3.0->impedance->Auto-EChem==0.0.1) (2.8.1)\n",
      "Requirement already satisfied, skipping upgrade: kiwisolver>=1.0.1 in c:\\users\\quee4145\\anaconda3\\lib\\site-packages (from matplotlib>=3.0->impedance->Auto-EChem==0.0.1) (1.3.0)\n",
      "Requirement already satisfied, skipping upgrade: cycler>=0.10 in c:\\users\\quee4145\\anaconda3\\lib\\site-packages (from matplotlib>=3.0->impedance->Auto-EChem==0.0.1) (0.10.0)\n",
      "Requirement already satisfied, skipping upgrade: fonttools>=4.22.0 in c:\\users\\quee4145\\anaconda3\\lib\\site-packages (from matplotlib>=3.0->impedance->Auto-EChem==0.0.1) (4.33.3)\n",
      "Requirement already satisfied, skipping upgrade: pyparsing>=2.2.1 in c:\\users\\quee4145\\anaconda3\\lib\\site-packages (from matplotlib>=3.0->impedance->Auto-EChem==0.0.1) (2.4.7)\n",
      "Requirement already satisfied, skipping upgrade: pillow>=6.2.0 in c:\\users\\quee4145\\anaconda3\\lib\\site-packages (from matplotlib>=3.0->impedance->Auto-EChem==0.0.1) (8.0.1)\n",
      "Requirement already satisfied, skipping upgrade: packaging>=20.0 in c:\\users\\quee4145\\anaconda3\\lib\\site-packages (from matplotlib>=3.0->impedance->Auto-EChem==0.0.1) (20.4)\n",
      "Requirement already satisfied, skipping upgrade: entrypoints in c:\\users\\quee4145\\anaconda3\\lib\\site-packages (from altair>=3.0->impedance->Auto-EChem==0.0.1) (0.3)\n",
      "Requirement already satisfied, skipping upgrade: jinja2 in c:\\users\\quee4145\\anaconda3\\lib\\site-packages (from altair>=3.0->impedance->Auto-EChem==0.0.1) (2.11.2)\n",
      "Requirement already satisfied, skipping upgrade: toolz in c:\\users\\quee4145\\anaconda3\\lib\\site-packages (from altair>=3.0->impedance->Auto-EChem==0.0.1) (0.11.1)\n",
      "Requirement already satisfied, skipping upgrade: pandas>=0.18 in c:\\users\\quee4145\\anaconda3\\lib\\site-packages (from altair>=3.0->impedance->Auto-EChem==0.0.1) (1.1.3)\n",
      "Requirement already satisfied, skipping upgrade: jsonschema in c:\\users\\quee4145\\anaconda3\\lib\\site-packages (from altair>=3.0->impedance->Auto-EChem==0.0.1) (3.2.0)\n",
      "Requirement already satisfied, skipping upgrade: cachetools<6.0,>=2.0.0 in c:\\users\\quee4145\\anaconda3\\lib\\site-packages (from google-auth>=1.12.0->gspread->Auto-EChem==0.0.1) (5.2.0)\n",
      "Requirement already satisfied, skipping upgrade: pyasn1-modules>=0.2.1 in c:\\users\\quee4145\\anaconda3\\lib\\site-packages (from google-auth>=1.12.0->gspread->Auto-EChem==0.0.1) (0.2.8)\n",
      "Requirement already satisfied, skipping upgrade: six>=1.9.0 in c:\\users\\quee4145\\anaconda3\\lib\\site-packages (from google-auth>=1.12.0->gspread->Auto-EChem==0.0.1) (1.15.0)\n",
      "Requirement already satisfied, skipping upgrade: rsa<5,>=3.1.4; python_version >= \"3.6\" in c:\\users\\quee4145\\anaconda3\\lib\\site-packages (from google-auth>=1.12.0->gspread->Auto-EChem==0.0.1) (4.9)\n",
      "Requirement already satisfied, skipping upgrade: requests-oauthlib>=0.7.0 in c:\\users\\quee4145\\anaconda3\\lib\\site-packages (from google-auth-oauthlib>=0.4.1->gspread->Auto-EChem==0.0.1) (1.3.1)\n",
      "Requirement already satisfied, skipping upgrade: MarkupSafe>=0.23 in c:\\users\\quee4145\\anaconda3\\lib\\site-packages (from jinja2->altair>=3.0->impedance->Auto-EChem==0.0.1) (1.1.1)\n",
      "Requirement already satisfied, skipping upgrade: pytz>=2017.2 in c:\\users\\quee4145\\anaconda3\\lib\\site-packages (from pandas>=0.18->altair>=3.0->impedance->Auto-EChem==0.0.1) (2020.1)\n",
      "Requirement already satisfied, skipping upgrade: setuptools in c:\\users\\quee4145\\anaconda3\\lib\\site-packages (from jsonschema->altair>=3.0->impedance->Auto-EChem==0.0.1) (50.3.1.post20201107)\n",
      "Requirement already satisfied, skipping upgrade: attrs>=17.4.0 in c:\\users\\quee4145\\anaconda3\\lib\\site-packages (from jsonschema->altair>=3.0->impedance->Auto-EChem==0.0.1) (20.3.0)\n",
      "Requirement already satisfied, skipping upgrade: pyrsistent>=0.14.0 in c:\\users\\quee4145\\anaconda3\\lib\\site-packages (from jsonschema->altair>=3.0->impedance->Auto-EChem==0.0.1) (0.17.3)\n",
      "Requirement already satisfied, skipping upgrade: pyasn1<0.5.0,>=0.4.6 in c:\\users\\quee4145\\anaconda3\\lib\\site-packages (from pyasn1-modules>=0.2.1->google-auth>=1.12.0->gspread->Auto-EChem==0.0.1) (0.4.8)\n",
      "Requirement already satisfied, skipping upgrade: oauthlib>=3.0.0 in c:\\users\\quee4145\\anaconda3\\lib\\site-packages (from requests-oauthlib>=0.7.0->google-auth-oauthlib>=0.4.1->gspread->Auto-EChem==0.0.1) (3.2.0)\n",
      "Requirement already satisfied, skipping upgrade: requests>=2.0.0 in c:\\users\\quee4145\\anaconda3\\lib\\site-packages (from requests-oauthlib>=0.7.0->google-auth-oauthlib>=0.4.1->gspread->Auto-EChem==0.0.1) (2.24.0)\n",
      "Requirement already satisfied, skipping upgrade: chardet<4,>=3.0.2 in c:\\users\\quee4145\\anaconda3\\lib\\site-packages (from requests>=2.0.0->requests-oauthlib>=0.7.0->google-auth-oauthlib>=0.4.1->gspread->Auto-EChem==0.0.1) (3.0.4)\n",
      "Requirement already satisfied, skipping upgrade: certifi>=2017.4.17 in c:\\users\\quee4145\\anaconda3\\lib\\site-packages (from requests>=2.0.0->requests-oauthlib>=0.7.0->google-auth-oauthlib>=0.4.1->gspread->Auto-EChem==0.0.1) (2020.6.20)\n",
      "Requirement already satisfied, skipping upgrade: idna<3,>=2.5 in c:\\users\\quee4145\\anaconda3\\lib\\site-packages (from requests>=2.0.0->requests-oauthlib>=0.7.0->google-auth-oauthlib>=0.4.1->gspread->Auto-EChem==0.0.1) (2.10)\n",
      "Requirement already satisfied, skipping upgrade: urllib3!=1.25.0,!=1.25.1,<1.26,>=1.21.1 in c:\\users\\quee4145\\anaconda3\\lib\\site-packages (from requests>=2.0.0->requests-oauthlib>=0.7.0->google-auth-oauthlib>=0.4.1->gspread->Auto-EChem==0.0.1) (1.25.11)\n",
      "Building wheels for collected packages: Auto-EChem\n",
      "  Building wheel for Auto-EChem (setup.py): started\n",
      "  Building wheel for Auto-EChem (setup.py): finished with status 'done'\n",
      "  Created wheel for Auto-EChem: filename=Auto_EChem-0.0.1-py3-none-any.whl size=32025 sha256=b133dd1d5073592bb08b9e9854dddcbc073b1c5b69fa6aafaec99ff2bd24ddf6\n",
      "  Stored in directory: C:\\Users\\quee4145\\AppData\\Local\\Temp\\pip-ephem-wheel-cache-qsltkg0m\\wheels\\1b\\09\\6f\\cfe715c32b6d1bb1aaa5b9efc2a31198c695ef340796335a68\n",
      "Successfully built Auto-EChem\n",
      "Installing collected packages: Auto-EChem\n",
      "  Attempting uninstall: Auto-EChem\n",
      "    Found existing installation: Auto-EChem 0.0.1\n",
      "    Uninstalling Auto-EChem-0.0.1:\n",
      "      Successfully uninstalled Auto-EChem-0.0.1\n",
      "Successfully installed Auto-EChem-0.0.1\n",
      "Note: you may need to restart the kernel to use updated packages.\n"
     ]
    }
   ],
   "source": [
    "pip install -U \"git+https://github.com/lfo96/auto_echem.git"
   ]
  },
  {
   "cell_type": "markdown",
   "metadata": {},
   "source": [
    "Create notebook in a directionary where you also want to store your plots. I usually create a new notebook for every new set of measurements I want to evaluate.  \n",
    "Import the functions from auto_echem into your notebook:"
   ]
  },
  {
   "cell_type": "code",
   "execution_count": 4,
   "metadata": {},
   "outputs": [],
   "source": [
    "# Those are the functions you need \n",
    "from auto_echem.GCPL_functions import *\n",
    "from auto_echem.general_functions import *\n",
    "from auto_echem.three_el_functions import *\n",
    "from auto_echem.auto import *\n",
    "from auto_echem.impedance_functions import *\n",
    "from auto_echem.TGA_DSC_functions import *\n",
    "from auto_echem.XPS_functions import *"
   ]
  },
  {
   "cell_type": "markdown",
   "metadata": {},
   "source": [
    "Next I specify where my biologic data is stored. Conveniently you can map the mp_pastagroup network drive where the data is automatically updated in real time (or whenever backup360 creates its backups...)  \n",
    "Always specify the lab setting file created by ec-lab. It has the .mps format. You can use the test files in \"auto_echem\\testfiles\\20221028_FeF2_bm_R52_US_801307_CCCC_1MLiTFSIPyr13TFSI_1\\20221028_FeF2_bm_R52_US_801307_CCCC_1MLiTFSIPyr13TFSI_1.mps\" to try and run this notebook.\n",
    "\n",
    "note: use r' before your pathway to make sure python can read it properly"
   ]
  },
  {
   "cell_type": "code",
   "execution_count": null,
   "metadata": {},
   "outputs": [],
   "source": [
    "test_file_p = r\"packagelocation\\auto_echem\\testfiles\\20221028_FeF2_bm_R52_US_801307_CCCC_1MLiTFSIPyr13TFSI_1\\20221028_FeF2_bm_R52_US_801307_CCCC_1MLiTFSIPyr13TFSI_1.mps\""
   ]
  },
  {
   "cell_type": "markdown",
   "metadata": {},
   "source": [
    "From here your analysis is dependent on your measurement file.  \n",
    "auto_echem functions can read in and process various measurements file generated by EC-lab (and BT-lab), but also TGA-DSC, XRD, XPS.\n",
    "\\\n",
    "\\\n",
    "The most generic analysis uses the \"auto\" function. The function reads in the .mps file, extract the specified measurements and subsequently look for through the folder of the setting file for the respesctive .mpr files. Each .mpr file is read in and evaluated respectivly.\n"
   ]
  },
  {
   "cell_type": "code",
   "execution_count": null,
   "metadata": {},
   "outputs": [],
   "source": [
    "test_file = auto(test_file_p, circ = ['RpC'])"
   ]
  },
  {
   "cell_type": "markdown",
   "metadata": {},
   "source": [
    "Usually I let the auto function run over my measurement and continue from there on. The auto function returns a dictionary (dict) with meta data, all the raw data (dict['data']), and the evaluated raw data (dict['eva'])."
   ]
  },
  {
   "cell_type": "markdown",
   "metadata": {},
   "source": [
    "In this example, we analyzed a measurement of a coin cell, starting with a resting period measuring the OCV, PEIS, and looping 23 times. Subsequently the GCPL is measured. \n",
    "\n",
    "The auto function has detected and analyzed OCV, PEIS and GCPL in the measurement folder.\n",
    "The dictionary contains amongst other, the following information: "
   ]
  },
  {
   "cell_type": "code",
   "execution_count": null,
   "metadata": {},
   "outputs": [],
   "source": [
    "\n",
    "print('Your active material mass is (mg):',test_file['active material mass'])\n",
    "print('Your electrode surface area is (cm2):',test_file['electrode surface area'])\n",
    "print('Your test protocol is:',test_file['protocol'])"
   ]
  },
  {
   "cell_type": "markdown",
   "metadata": {},
   "source": [
    "Your raw data is saved into the dictionary and can be accessed by dict['data']. Therein each measurement gets its own entry with a number indicating the chronology of the measurement. For example:"
   ]
  },
  {
   "cell_type": "code",
   "execution_count": null,
   "metadata": {},
   "outputs": [],
   "source": [
    "for meas_data in test_file['data']:\n",
    "    print(meas_data)"
   ]
  },
  {
   "cell_type": "markdown",
   "metadata": {},
   "source": [
    "Similiarily, the raw data (stored in ['data']) is processed, evaluated, and stored in dict['eva']."
   ]
  },
  {
   "cell_type": "code",
   "execution_count": null,
   "metadata": {},
   "outputs": [],
   "source": [
    "for eva_data in test_file['eva']:\n",
    "    print(eva_data)"
   ]
  },
  {
   "cell_type": "markdown",
   "metadata": {},
   "source": [
    "Since there is not much to analzye for OCV measurement, there is no entry in the 'eva' section.  \n",
    "The \"1 PEIS\" contains various information including for example each parameter order by cycle.\n"
   ]
  },
  {
   "cell_type": "code",
   "execution_count": null,
   "metadata": {},
   "outputs": [],
   "source": [
    "test_file['eva']['1 PEIS']['Nyquist parameter']"
   ]
  }
 ],
 "metadata": {
  "kernelspec": {
   "display_name": "Python 3.8.5 ('base')",
   "language": "python",
   "name": "python3"
  },
  "language_info": {
   "codemirror_mode": {
    "name": "ipython",
    "version": 3
   },
   "file_extension": ".py",
   "mimetype": "text/x-python",
   "name": "python",
   "nbconvert_exporter": "python",
   "pygments_lexer": "ipython3",
   "version": "3.8.5"
  },
  "orig_nbformat": 4,
  "vscode": {
   "interpreter": {
    "hash": "568d8f4409f2ec49567e5eb42264dd1e3d35e51f40fc9c147044b71c2fbce6ff"
   }
  }
 },
 "nbformat": 4,
 "nbformat_minor": 2
}
