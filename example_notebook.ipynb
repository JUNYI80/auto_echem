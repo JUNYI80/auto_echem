{
 "cells": [
  {
   "cell_type": "markdown",
   "metadata": {},
   "source": [
    "Install the auto_echem package. You need git installed onto your computer (https://git-scm.com/download/win)"
   ]
  },
  {
   "cell_type": "code",
   "execution_count": 1,
   "metadata": {},
   "outputs": [
    {
     "name": "stdout",
     "output_type": "stream",
     "text": [
      "Collecting git+https://github.com/lfo96/auto_echem.git\n",
      "  Cloning https://github.com/lfo96/auto_echem.git to c:\\users\\loren\\appdata\\local\\temp\\pip-req-build-lv25x3eu\n",
      "  Resolved https://github.com/lfo96/auto_echem.git to commit db5da2556b0e33df6aacf8e8bec7651a27988153\n",
      "  Preparing metadata (setup.py): started\n",
      "  Preparing metadata (setup.py): finished with status 'done'\n",
      "Requirement already satisfied: numpy in c:\\users\\loren\\anaconda3\\envs\\data_analysis\\lib\\site-packages (from Auto-EChem==0.0.1) (1.23.4)\n",
      "Requirement already satisfied: scipy in c:\\users\\loren\\anaconda3\\envs\\data_analysis\\lib\\site-packages (from Auto-EChem==0.0.1) (1.9.3)\n",
      "Requirement already satisfied: galvani in c:\\users\\loren\\anaconda3\\envs\\data_analysis\\lib\\site-packages (from Auto-EChem==0.0.1) (0.2.1)\n",
      "Requirement already satisfied: impedance in c:\\users\\loren\\anaconda3\\envs\\data_analysis\\lib\\site-packages (from Auto-EChem==0.0.1) (1.4.1)\n",
      "Requirement already satisfied: gspread in c:\\users\\loren\\anaconda3\\envs\\data_analysis\\lib\\site-packages (from Auto-EChem==0.0.1) (5.6.2)\n",
      "Requirement already satisfied: google-auth-oauthlib>=0.4.1 in c:\\users\\loren\\anaconda3\\envs\\data_analysis\\lib\\site-packages (from gspread->Auto-EChem==0.0.1) (0.7.1)\n",
      "Requirement already satisfied: google-auth>=1.12.0 in c:\\users\\loren\\anaconda3\\envs\\data_analysis\\lib\\site-packages (from gspread->Auto-EChem==0.0.1) (2.14.1)\n",
      "Requirement already satisfied: altair>=3.0 in c:\\users\\loren\\anaconda3\\envs\\data_analysis\\lib\\site-packages (from impedance->Auto-EChem==0.0.1) (4.2.0)\n",
      "Requirement already satisfied: matplotlib>=3.0 in c:\\users\\loren\\anaconda3\\envs\\data_analysis\\lib\\site-packages (from impedance->Auto-EChem==0.0.1) (3.6.2)\n",
      "Requirement already satisfied: toolz in c:\\users\\loren\\anaconda3\\envs\\data_analysis\\lib\\site-packages (from altair>=3.0->impedance->Auto-EChem==0.0.1) (0.12.0)\n",
      "Requirement already satisfied: jinja2 in c:\\users\\loren\\anaconda3\\envs\\data_analysis\\lib\\site-packages (from altair>=3.0->impedance->Auto-EChem==0.0.1) (3.1.2)\n",
      "Requirement already satisfied: jsonschema>=3.0 in c:\\users\\loren\\anaconda3\\envs\\data_analysis\\lib\\site-packages (from altair>=3.0->impedance->Auto-EChem==0.0.1) (4.17.0)\n",
      "Requirement already satisfied: pandas>=0.18 in c:\\users\\loren\\anaconda3\\envs\\data_analysis\\lib\\site-packages (from altair>=3.0->impedance->Auto-EChem==0.0.1) (1.5.1)\n",
      "Requirement already satisfied: entrypoints in c:\\users\\loren\\anaconda3\\envs\\data_analysis\\lib\\site-packages (from altair>=3.0->impedance->Auto-EChem==0.0.1) (0.4)\n",
      "Requirement already satisfied: cachetools<6.0,>=2.0.0 in c:\\users\\loren\\anaconda3\\envs\\data_analysis\\lib\\site-packages (from google-auth>=1.12.0->gspread->Auto-EChem==0.0.1) (5.2.0)\n",
      "Requirement already satisfied: six>=1.9.0 in c:\\users\\loren\\anaconda3\\envs\\data_analysis\\lib\\site-packages (from google-auth>=1.12.0->gspread->Auto-EChem==0.0.1) (1.16.0)\n",
      "Requirement already satisfied: rsa<5,>=3.1.4 in c:\\users\\loren\\anaconda3\\envs\\data_analysis\\lib\\site-packages (from google-auth>=1.12.0->gspread->Auto-EChem==0.0.1) (4.9)\n",
      "Requirement already satisfied: pyasn1-modules>=0.2.1 in c:\\users\\loren\\anaconda3\\envs\\data_analysis\\lib\\site-packages (from google-auth>=1.12.0->gspread->Auto-EChem==0.0.1) (0.2.8)\n",
      "Requirement already satisfied: requests-oauthlib>=0.7.0 in c:\\users\\loren\\anaconda3\\envs\\data_analysis\\lib\\site-packages (from google-auth-oauthlib>=0.4.1->gspread->Auto-EChem==0.0.1) (1.3.1)\n",
      "Requirement already satisfied: contourpy>=1.0.1 in c:\\users\\loren\\anaconda3\\envs\\data_analysis\\lib\\site-packages (from matplotlib>=3.0->impedance->Auto-EChem==0.0.1) (1.0.6)\n",
      "Requirement already satisfied: packaging>=20.0 in c:\\users\\loren\\anaconda3\\envs\\data_analysis\\lib\\site-packages (from matplotlib>=3.0->impedance->Auto-EChem==0.0.1) (21.3)\n",
      "Requirement already satisfied: kiwisolver>=1.0.1 in c:\\users\\loren\\anaconda3\\envs\\data_analysis\\lib\\site-packages (from matplotlib>=3.0->impedance->Auto-EChem==0.0.1) (1.4.4)\n",
      "Requirement already satisfied: pillow>=6.2.0 in c:\\users\\loren\\anaconda3\\envs\\data_analysis\\lib\\site-packages (from matplotlib>=3.0->impedance->Auto-EChem==0.0.1) (9.3.0)\n",
      "Requirement already satisfied: cycler>=0.10 in c:\\users\\loren\\anaconda3\\envs\\data_analysis\\lib\\site-packages (from matplotlib>=3.0->impedance->Auto-EChem==0.0.1) (0.11.0)\n",
      "Requirement already satisfied: python-dateutil>=2.7 in c:\\users\\loren\\anaconda3\\envs\\data_analysis\\lib\\site-packages (from matplotlib>=3.0->impedance->Auto-EChem==0.0.1) (2.8.2)\n",
      "Requirement already satisfied: fonttools>=4.22.0 in c:\\users\\loren\\anaconda3\\envs\\data_analysis\\lib\\site-packages (from matplotlib>=3.0->impedance->Auto-EChem==0.0.1) (4.38.0)\n",
      "Requirement already satisfied: pyparsing>=2.2.1 in c:\\users\\loren\\anaconda3\\envs\\data_analysis\\lib\\site-packages (from matplotlib>=3.0->impedance->Auto-EChem==0.0.1) (3.0.9)\n",
      "Requirement already satisfied: pyrsistent!=0.17.0,!=0.17.1,!=0.17.2,>=0.14.0 in c:\\users\\loren\\anaconda3\\envs\\data_analysis\\lib\\site-packages (from jsonschema>=3.0->altair>=3.0->impedance->Auto-EChem==0.0.1) (0.19.2)\n",
      "Requirement already satisfied: attrs>=17.4.0 in c:\\users\\loren\\anaconda3\\envs\\data_analysis\\lib\\site-packages (from jsonschema>=3.0->altair>=3.0->impedance->Auto-EChem==0.0.1) (22.1.0)\n",
      "Requirement already satisfied: pytz>=2020.1 in c:\\users\\loren\\anaconda3\\envs\\data_analysis\\lib\\site-packages (from pandas>=0.18->altair>=3.0->impedance->Auto-EChem==0.0.1) (2022.6)\n",
      "Requirement already satisfied: pyasn1<0.5.0,>=0.4.6 in c:\\users\\loren\\anaconda3\\envs\\data_analysis\\lib\\site-packages (from pyasn1-modules>=0.2.1->google-auth>=1.12.0->gspread->Auto-EChem==0.0.1) (0.4.8)\n",
      "Requirement already satisfied: requests>=2.0.0 in c:\\users\\loren\\anaconda3\\envs\\data_analysis\\lib\\site-packages (from requests-oauthlib>=0.7.0->google-auth-oauthlib>=0.4.1->gspread->Auto-EChem==0.0.1) (2.28.1)\n",
      "Requirement already satisfied: oauthlib>=3.0.0 in c:\\users\\loren\\anaconda3\\envs\\data_analysis\\lib\\site-packages (from requests-oauthlib>=0.7.0->google-auth-oauthlib>=0.4.1->gspread->Auto-EChem==0.0.1) (3.2.2)\n",
      "Requirement already satisfied: MarkupSafe>=2.0 in c:\\users\\loren\\anaconda3\\envs\\data_analysis\\lib\\site-packages (from jinja2->altair>=3.0->impedance->Auto-EChem==0.0.1) (2.1.1)\n",
      "Requirement already satisfied: urllib3<1.27,>=1.21.1 in c:\\users\\loren\\anaconda3\\envs\\data_analysis\\lib\\site-packages (from requests>=2.0.0->requests-oauthlib>=0.7.0->google-auth-oauthlib>=0.4.1->gspread->Auto-EChem==0.0.1) (1.26.12)\n",
      "Requirement already satisfied: idna<4,>=2.5 in c:\\users\\loren\\anaconda3\\envs\\data_analysis\\lib\\site-packages (from requests>=2.0.0->requests-oauthlib>=0.7.0->google-auth-oauthlib>=0.4.1->gspread->Auto-EChem==0.0.1) (3.4)\n",
      "Requirement already satisfied: certifi>=2017.4.17 in c:\\users\\loren\\anaconda3\\envs\\data_analysis\\lib\\site-packages (from requests>=2.0.0->requests-oauthlib>=0.7.0->google-auth-oauthlib>=0.4.1->gspread->Auto-EChem==0.0.1) (2022.9.24)\n",
      "Requirement already satisfied: charset-normalizer<3,>=2 in c:\\users\\loren\\anaconda3\\envs\\data_analysis\\lib\\site-packages (from requests>=2.0.0->requests-oauthlib>=0.7.0->google-auth-oauthlib>=0.4.1->gspread->Auto-EChem==0.0.1) (2.1.1)\n",
      "Note: you may need to restart the kernel to use updated packages.\n"
     ]
    },
    {
     "name": "stderr",
     "output_type": "stream",
     "text": [
      "  Running command git clone --filter=blob:none --quiet https://github.com/lfo96/auto_echem.git 'C:\\Users\\loren\\AppData\\Local\\Temp\\pip-req-build-lv25x3eu'\n"
     ]
    }
   ],
   "source": [
    "pip install \"git+https://github.com/lfo96/auto_echem.git\"  "
   ]
  },
  {
   "cell_type": "markdown",
   "metadata": {},
   "source": [
    "This needs to be installed only once. Can be removed from the notebook thereafter.  \n",
    "I reguarly update the functions, so if you want to have the latest version on here either keep your local respitory udpated or run the pip update from time to time."
   ]
  },
  {
   "cell_type": "code",
   "execution_count": 6,
   "metadata": {},
   "outputs": [
    {
     "name": "stdout",
     "output_type": "stream",
     "text": [
      "Collecting git+https://github.com/lfo96/auto_echem.git\n",
      "  Cloning https://github.com/lfo96/auto_echem.git to c:\\users\\quee4145\\appdata\\local\\temp\\pip-req-build-53oashld\n",
      "Requirement already satisfied, skipping upgrade: numpy in c:\\users\\quee4145\\anaconda3\\lib\\site-packages (from Auto-EChem==0.0.1) (1.19.2)\n",
      "Requirement already satisfied, skipping upgrade: scipy in c:\\users\\quee4145\\anaconda3\\lib\\site-packages (from Auto-EChem==0.0.1) (1.5.2)\n",
      "Requirement already satisfied, skipping upgrade: galvani in c:\\users\\quee4145\\anaconda3\\lib\\site-packages (from Auto-EChem==0.0.1) (0.2.1)\n",
      "Requirement already satisfied, skipping upgrade: impedance in c:\\users\\quee4145\\anaconda3\\lib\\site-packages (from Auto-EChem==0.0.1) (1.3.0)\n",
      "Requirement already satisfied, skipping upgrade: gspread in c:\\users\\quee4145\\anaconda3\\lib\\site-packages (from Auto-EChem==0.0.1) (5.4.0)\n",
      "Requirement already satisfied, skipping upgrade: altair>=3.0 in c:\\users\\quee4145\\anaconda3\\lib\\site-packages (from impedance->Auto-EChem==0.0.1) (4.1.0)\n",
      "Requirement already satisfied, skipping upgrade: matplotlib>=3.0 in c:\\users\\quee4145\\appdata\\roaming\\python\\python38\\site-packages (from impedance->Auto-EChem==0.0.1) (3.5.2)\n",
      "Requirement already satisfied, skipping upgrade: google-auth>=1.12.0 in c:\\users\\quee4145\\anaconda3\\lib\\site-packages (from gspread->Auto-EChem==0.0.1) (2.9.1)\n",
      "Requirement already satisfied, skipping upgrade: google-auth-oauthlib>=0.4.1 in c:\\users\\quee4145\\anaconda3\\lib\\site-packages (from gspread->Auto-EChem==0.0.1) (0.5.2)\n",
      "Requirement already satisfied, skipping upgrade: toolz in c:\\users\\quee4145\\anaconda3\\lib\\site-packages (from altair>=3.0->impedance->Auto-EChem==0.0.1) (0.11.1)\n",
      "Requirement already satisfied, skipping upgrade: pandas>=0.18 in c:\\users\\quee4145\\anaconda3\\lib\\site-packages (from altair>=3.0->impedance->Auto-EChem==0.0.1) (1.1.3)\n",
      "Requirement already satisfied, skipping upgrade: jsonschema in c:\\users\\quee4145\\anaconda3\\lib\\site-packages (from altair>=3.0->impedance->Auto-EChem==0.0.1) (3.2.0)\n",
      "Requirement already satisfied, skipping upgrade: jinja2 in c:\\users\\quee4145\\anaconda3\\lib\\site-packages (from altair>=3.0->impedance->Auto-EChem==0.0.1) (2.11.2)\n",
      "Requirement already satisfied, skipping upgrade: entrypoints in c:\\users\\quee4145\\anaconda3\\lib\\site-packages (from altair>=3.0->impedance->Auto-EChem==0.0.1) (0.3)\n",
      "Requirement already satisfied, skipping upgrade: packaging>=20.0 in c:\\users\\quee4145\\anaconda3\\lib\\site-packages (from matplotlib>=3.0->impedance->Auto-EChem==0.0.1) (20.4)\n",
      "Requirement already satisfied, skipping upgrade: fonttools>=4.22.0 in c:\\users\\quee4145\\anaconda3\\lib\\site-packages (from matplotlib>=3.0->impedance->Auto-EChem==0.0.1) (4.33.3)\n",
      "Requirement already satisfied, skipping upgrade: kiwisolver>=1.0.1 in c:\\users\\quee4145\\anaconda3\\lib\\site-packages (from matplotlib>=3.0->impedance->Auto-EChem==0.0.1) (1.3.0)\n",
      "Requirement already satisfied, skipping upgrade: pillow>=6.2.0 in c:\\users\\quee4145\\anaconda3\\lib\\site-packages (from matplotlib>=3.0->impedance->Auto-EChem==0.0.1) (8.0.1)\n",
      "Requirement already satisfied, skipping upgrade: pyparsing>=2.2.1 in c:\\users\\quee4145\\anaconda3\\lib\\site-packages (from matplotlib>=3.0->impedance->Auto-EChem==0.0.1) (2.4.7)\n",
      "Requirement already satisfied, skipping upgrade: python-dateutil>=2.7 in c:\\users\\quee4145\\anaconda3\\lib\\site-packages (from matplotlib>=3.0->impedance->Auto-EChem==0.0.1) (2.8.1)\n",
      "Requirement already satisfied, skipping upgrade: cycler>=0.10 in c:\\users\\quee4145\\anaconda3\\lib\\site-packages (from matplotlib>=3.0->impedance->Auto-EChem==0.0.1) (0.10.0)\n",
      "Requirement already satisfied, skipping upgrade: six>=1.9.0 in c:\\users\\quee4145\\anaconda3\\lib\\site-packages (from google-auth>=1.12.0->gspread->Auto-EChem==0.0.1) (1.15.0)\n",
      "Requirement already satisfied, skipping upgrade: cachetools<6.0,>=2.0.0 in c:\\users\\quee4145\\anaconda3\\lib\\site-packages (from google-auth>=1.12.0->gspread->Auto-EChem==0.0.1) (5.2.0)\n",
      "Requirement already satisfied, skipping upgrade: pyasn1-modules>=0.2.1 in c:\\users\\quee4145\\anaconda3\\lib\\site-packages (from google-auth>=1.12.0->gspread->Auto-EChem==0.0.1) (0.2.8)\n",
      "Requirement already satisfied, skipping upgrade: rsa<5,>=3.1.4; python_version >= \"3.6\" in c:\\users\\quee4145\\anaconda3\\lib\\site-packages (from google-auth>=1.12.0->gspread->Auto-EChem==0.0.1) (4.9)\n",
      "Requirement already satisfied, skipping upgrade: requests-oauthlib>=0.7.0 in c:\\users\\quee4145\\anaconda3\\lib\\site-packages (from google-auth-oauthlib>=0.4.1->gspread->Auto-EChem==0.0.1) (1.3.1)\n",
      "Requirement already satisfied, skipping upgrade: pytz>=2017.2 in c:\\users\\quee4145\\anaconda3\\lib\\site-packages (from pandas>=0.18->altair>=3.0->impedance->Auto-EChem==0.0.1) (2020.1)\n",
      "Requirement already satisfied, skipping upgrade: pyrsistent>=0.14.0 in c:\\users\\quee4145\\anaconda3\\lib\\site-packages (from jsonschema->altair>=3.0->impedance->Auto-EChem==0.0.1) (0.17.3)\n",
      "Requirement already satisfied, skipping upgrade: setuptools in c:\\users\\quee4145\\anaconda3\\lib\\site-packages (from jsonschema->altair>=3.0->impedance->Auto-EChem==0.0.1) (50.3.1.post20201107)\n",
      "Requirement already satisfied, skipping upgrade: attrs>=17.4.0 in c:\\users\\quee4145\\anaconda3\\lib\\site-packages (from jsonschema->altair>=3.0->impedance->Auto-EChem==0.0.1) (20.3.0)\n",
      "Requirement already satisfied, skipping upgrade: MarkupSafe>=0.23 in c:\\users\\quee4145\\anaconda3\\lib\\site-packages (from jinja2->altair>=3.0->impedance->Auto-EChem==0.0.1) (1.1.1)\n",
      "Requirement already satisfied, skipping upgrade: pyasn1<0.5.0,>=0.4.6 in c:\\users\\quee4145\\anaconda3\\lib\\site-packages (from pyasn1-modules>=0.2.1->google-auth>=1.12.0->gspread->Auto-EChem==0.0.1) (0.4.8)\n",
      "Requirement already satisfied, skipping upgrade: oauthlib>=3.0.0 in c:\\users\\quee4145\\anaconda3\\lib\\site-packages (from requests-oauthlib>=0.7.0->google-auth-oauthlib>=0.4.1->gspread->Auto-EChem==0.0.1) (3.2.0)\n",
      "Requirement already satisfied, skipping upgrade: requests>=2.0.0 in c:\\users\\quee4145\\anaconda3\\lib\\site-packages (from requests-oauthlib>=0.7.0->google-auth-oauthlib>=0.4.1->gspread->Auto-EChem==0.0.1) (2.24.0)\n",
      "Requirement already satisfied, skipping upgrade: urllib3!=1.25.0,!=1.25.1,<1.26,>=1.21.1 in c:\\users\\quee4145\\anaconda3\\lib\\site-packages (from requests>=2.0.0->requests-oauthlib>=0.7.0->google-auth-oauthlib>=0.4.1->gspread->Auto-EChem==0.0.1) (1.25.11)\n",
      "Requirement already satisfied, skipping upgrade: idna<3,>=2.5 in c:\\users\\quee4145\\anaconda3\\lib\\site-packages (from requests>=2.0.0->requests-oauthlib>=0.7.0->google-auth-oauthlib>=0.4.1->gspread->Auto-EChem==0.0.1) (2.10)\n",
      "Requirement already satisfied, skipping upgrade: chardet<4,>=3.0.2 in c:\\users\\quee4145\\anaconda3\\lib\\site-packages (from requests>=2.0.0->requests-oauthlib>=0.7.0->google-auth-oauthlib>=0.4.1->gspread->Auto-EChem==0.0.1) (3.0.4)\n",
      "Requirement already satisfied, skipping upgrade: certifi>=2017.4.17 in c:\\users\\quee4145\\anaconda3\\lib\\site-packages (from requests>=2.0.0->requests-oauthlib>=0.7.0->google-auth-oauthlib>=0.4.1->gspread->Auto-EChem==0.0.1) (2020.6.20)\n",
      "Building wheels for collected packages: Auto-EChem\n",
      "  Building wheel for Auto-EChem (setup.py): started\n",
      "  Building wheel for Auto-EChem (setup.py): finished with status 'done'\n",
      "  Created wheel for Auto-EChem: filename=Auto_EChem-0.0.1-py3-none-any.whl size=32025 sha256=74c539a4bbf203a684b342c5d01393327446bbf7ad1880944d9892eefd1a57c6\n",
      "  Stored in directory: C:\\Users\\quee4145\\AppData\\Local\\Temp\\pip-ephem-wheel-cache-q8hgck7g\\wheels\\1b\\09\\6f\\cfe715c32b6d1bb1aaa5b9efc2a31198c695ef340796335a68\n",
      "Successfully built Auto-EChem\n",
      "Installing collected packages: Auto-EChem\n",
      "  Attempting uninstall: Auto-EChem\n",
      "    Found existing installation: Auto-EChem 0.0.1\n",
      "    Uninstalling Auto-EChem-0.0.1:\n",
      "      Successfully uninstalled Auto-EChem-0.0.1\n",
      "Successfully installed Auto-EChem-0.0.1\n",
      "Note: you may need to restart the kernel to use updated packages.\n"
     ]
    }
   ],
   "source": [
    "pip install -U \"git+https://github.com/lfo96/auto_echem.git"
   ]
  },
  {
   "cell_type": "markdown",
   "metadata": {},
   "source": [
    "Create notebook in a directionary where you also want to store your plots. I usually create a new notebook for every new set of measurements I want to evaluate.  \n",
    "Import the functions from auto_echem into your notebook:"
   ]
  },
  {
   "cell_type": "code",
   "execution_count": 7,
   "metadata": {},
   "outputs": [],
   "source": [
    "# Those are the functions you need \n",
    "from auto_echem.GCPL_functions import *\n",
    "from auto_echem.general_functions import *\n",
    "from auto_echem.three_el_functions import *\n",
    "from auto_echem.auto import *\n",
    "from auto_echem.impedance_functions import *\n",
    "from auto_echem.TGA_DSC_functions import *\n",
    "from auto_echem.XPS_functions import *"
   ]
  },
  {
   "cell_type": "markdown",
   "metadata": {},
   "source": [
    "Next I specify where my biologic data is stored. Conveniently you can map the mp_pastagroup network drive where the data is automatically updated in real time (or whenever backup360 creates its backups...)  \n",
    "Always specify the lab setting file created by ec-lab. It has the .mps format. You can use the test files in \"auto_echem\\testfiles\\20221028_FeF2_bm_R52_US_801307_CCCC_1MLiTFSIPyr13TFSI_1\\20221028_FeF2_bm_R52_US_801307_CCCC_1MLiTFSIPyr13TFSI_1.mps\" to try and run this notebook.\n",
    "\n",
    "note: use r' before your pathway to make sure python can read it properly"
   ]
  },
  {
   "cell_type": "code",
   "execution_count": 1,
   "metadata": {},
   "outputs": [],
   "source": [
    "test_file_p = r\"packagelocation\\auto_echem\\testfiles\\20221028_FeF2_bm_R52_US_801307_CCCC_1MLiTFSIPyr13TFSI_1\\20221028_FeF2_bm_R52_US_801307_CCCC_1MLiTFSIPyr13TFSI_1.mps\""
   ]
  },
  {
   "cell_type": "markdown",
   "metadata": {},
   "source": [
    "From here your analysis is dependent on your measurement file.  \n",
    "auto_echem functions can read in and process various measurements file generated by EC-lab (and BT-lab), but also TGA-DSC, XRD, XPS.\n",
    "\\\n",
    "\\\n",
    "The most generic analysis uses the \"auto\" function. The function reads in the .mps file, extract the specified measurements and subsequently look for through the folder of the setting file for the respesctive .mpr files. Each .mpr file is read in and evaluated respectivly.\n"
   ]
  },
  {
   "cell_type": "code",
   "execution_count": null,
   "metadata": {},
   "outputs": [],
   "source": [
    "test_file = auto(test_file_p, circ = ['RpC'])"
   ]
  },
  {
   "cell_type": "markdown",
   "metadata": {},
   "source": [
    "Usually I let the auto function run over my measurement and continue from there on. The auto function returns a dictionary (dict) with meta data, all the raw data (dict['data']), and the evaluated raw data (dict['eva'])."
   ]
  },
  {
   "cell_type": "markdown",
   "metadata": {},
   "source": [
    "In this example, we analyzed a measurement of a coin cell, starting with a resting period measuring the OCV, PEIS, and looping 23 times. Subsequently the GCPL is measured. \n",
    "\n",
    "The auto function has detected and analyzed OCV, PEIS and GCPL in the measurement folder.\n",
    "The dictionary contains amongst other, the following information: "
   ]
  },
  {
   "cell_type": "code",
   "execution_count": null,
   "metadata": {},
   "outputs": [],
   "source": [
    "\n",
    "print('Your active material mass is (mg):',test_file['active material mass'])\n",
    "print('Your electrode surface area is (cm2):',test_file['electrode surface area'])\n",
    "print('Your test protocol is:',test_file['protocol'])"
   ]
  },
  {
   "cell_type": "markdown",
   "metadata": {},
   "source": [
    "Your raw data is saved into the dictionary and can be accessed by dict['data']. Therein each measurement gets its own entry with a number indicating the chronology of the measurement. For example:"
   ]
  },
  {
   "cell_type": "code",
   "execution_count": null,
   "metadata": {},
   "outputs": [],
   "source": [
    "for meas_data in test_file['data']:\n",
    "    print(meas_data)"
   ]
  },
  {
   "cell_type": "markdown",
   "metadata": {},
   "source": [
    "Similiarily, the raw data (stored in ['data']) is processed, evaluated, and stored in dict['eva']."
   ]
  },
  {
   "cell_type": "code",
   "execution_count": null,
   "metadata": {},
   "outputs": [],
   "source": [
    "for eva_data in test_file['eva']:\n",
    "    print(eva_data)"
   ]
  },
  {
   "cell_type": "markdown",
   "metadata": {},
   "source": [
    "Since there is not much to analzye for OCV measurement, there is no entry in the 'eva' section.  \n",
    "The \"1 PEIS\" contains various information including for example each parameter order by cycle.\n"
   ]
  },
  {
   "cell_type": "code",
   "execution_count": null,
   "metadata": {},
   "outputs": [],
   "source": [
    "test_file['eva']['1 PEIS']['Nyquist parameter']"
   ]
  },
  {
   "cell_type": "markdown",
   "metadata": {},
   "source": [
    "Error Shooting Time"
   ]
  },
  {
   "cell_type": "code",
   "execution_count": 16,
   "metadata": {},
   "outputs": [],
   "source": [
    "test = r\"Y:\\VMP3 datafiles\\Giulia\\PbPbF2-PTFE-CF-Guillaume\\0.5m TMAF(10m) MeOH PN\\10102022-PbPbF2symm-05mTMAF-10mMeOH-PN-PTFE-CF-30um-n1.mps\""
   ]
  },
  {
   "cell_type": "code",
   "execution_count": 19,
   "metadata": {},
   "outputs": [
    {
     "name": "stdout",
     "output_type": "stream",
     "text": [
      "Electrode Surface Area manually set to 1.13cm2.\n"
     ]
    },
    {
     "ename": "ValueError",
     "evalue": "time data '24:00:10' does not match format '%H:%M:%S'",
     "output_type": "error",
     "traceback": [
      "\u001b[1;31m---------------------------------------------------------------------------\u001b[0m",
      "\u001b[1;31mValueError\u001b[0m                                Traceback (most recent call last)",
      "\u001b[1;32m<ipython-input-19-7e265019f7ca>\u001b[0m in \u001b[0;36m<module>\u001b[1;34m\u001b[0m\n\u001b[0;32m     36\u001b[0m                 \u001b[0mprint\u001b[0m\u001b[1;33m(\u001b[0m\u001b[1;34m'Several waiting times found.'\u001b[0m\u001b[1;33m)\u001b[0m\u001b[1;33m\u001b[0m\u001b[1;33m\u001b[0m\u001b[0m\n\u001b[0;32m     37\u001b[0m                 \u001b[0mt_wait_2\u001b[0m \u001b[1;33m=\u001b[0m \u001b[0mdatetime\u001b[0m\u001b[1;33m(\u001b[0m\u001b[0mline\u001b[0m\u001b[1;33m.\u001b[0m\u001b[0msplit\u001b[0m\u001b[1;33m(\u001b[0m\u001b[1;34m\" \"\u001b[0m\u001b[1;33m)\u001b[0m\u001b[1;33m[\u001b[0m\u001b[1;36m11\u001b[0m\u001b[1;33m]\u001b[0m\u001b[1;33m)\u001b[0m\u001b[1;33m\u001b[0m\u001b[1;33m\u001b[0m\u001b[0m\n\u001b[1;32m---> 38\u001b[1;33m             \u001b[0mt_wait\u001b[0m \u001b[1;33m=\u001b[0m \u001b[0mdatetime\u001b[0m\u001b[1;33m(\u001b[0m\u001b[0mline\u001b[0m\u001b[1;33m.\u001b[0m\u001b[0msplit\u001b[0m\u001b[1;33m(\u001b[0m\u001b[1;34m\" \"\u001b[0m\u001b[1;33m)\u001b[0m\u001b[1;33m[\u001b[0m\u001b[1;36m11\u001b[0m\u001b[1;33m]\u001b[0m\u001b[1;33m)\u001b[0m\u001b[1;33m\u001b[0m\u001b[1;33m\u001b[0m\u001b[0m\n\u001b[0m\u001b[0;32m     39\u001b[0m         \u001b[1;32melif\u001b[0m \u001b[0mline\u001b[0m\u001b[1;33m.\u001b[0m\u001b[0msplit\u001b[0m\u001b[1;33m(\u001b[0m\u001b[1;34m\":\"\u001b[0m\u001b[1;33m)\u001b[0m\u001b[1;33m[\u001b[0m\u001b[1;36m0\u001b[0m\u001b[1;33m]\u001b[0m\u001b[1;33m==\u001b[0m \u001b[1;34m'tR (h'\u001b[0m\u001b[1;33m:\u001b[0m\u001b[1;33m\u001b[0m\u001b[1;33m\u001b[0m\u001b[0m\n\u001b[0;32m     40\u001b[0m             \u001b[1;31m# GCPL and OCV both have a tR entry in the meta file. Necessary to distinguish both\u001b[0m\u001b[1;33m\u001b[0m\u001b[1;33m\u001b[0m\u001b[1;33m\u001b[0m\u001b[0m\n",
      "\u001b[1;32mc:\\Users\\quee4145\\OneDrive - Nexus365\\DPhil\\files\\Data\\auto_echem\\auto_echem\\general_functions.py\u001b[0m in \u001b[0;36mdatetime\u001b[1;34m(time_raw)\u001b[0m\n\u001b[0;32m     31\u001b[0m     \u001b[0mstart_dt\u001b[0m \u001b[1;33m=\u001b[0m \u001b[0mdt\u001b[0m\u001b[1;33m.\u001b[0m\u001b[0mdatetime\u001b[0m\u001b[1;33m.\u001b[0m\u001b[0mstrptime\u001b[0m\u001b[1;33m(\u001b[0m\u001b[1;34m\"00:00:00\"\u001b[0m\u001b[1;33m,\u001b[0m \u001b[1;34m'%H:%M:%S'\u001b[0m\u001b[1;33m)\u001b[0m\u001b[1;33m\u001b[0m\u001b[1;33m\u001b[0m\u001b[0m\n\u001b[0;32m     32\u001b[0m     \u001b[0mtime\u001b[0m \u001b[1;33m=\u001b[0m \u001b[0mtime_raw\u001b[0m\u001b[1;33m.\u001b[0m\u001b[0msplit\u001b[0m\u001b[1;33m(\u001b[0m\u001b[1;34m'.'\u001b[0m\u001b[1;33m)\u001b[0m\u001b[1;33m[\u001b[0m\u001b[1;36m0\u001b[0m\u001b[1;33m]\u001b[0m\u001b[1;33m\u001b[0m\u001b[1;33m\u001b[0m\u001b[0m\n\u001b[1;32m---> 33\u001b[1;33m     \u001b[0mtime_float\u001b[0m \u001b[1;33m=\u001b[0m \u001b[0mfloat\u001b[0m\u001b[1;33m(\u001b[0m\u001b[1;34m'{:0.3f}'\u001b[0m\u001b[1;33m.\u001b[0m\u001b[0mformat\u001b[0m\u001b[1;33m(\u001b[0m\u001b[1;33m(\u001b[0m\u001b[0mdt\u001b[0m\u001b[1;33m.\u001b[0m\u001b[0mdatetime\u001b[0m\u001b[1;33m.\u001b[0m\u001b[0mstrptime\u001b[0m\u001b[1;33m(\u001b[0m\u001b[0mtime\u001b[0m\u001b[1;33m,\u001b[0m \u001b[1;34m'%H:%M:%S'\u001b[0m\u001b[1;33m)\u001b[0m \u001b[1;33m-\u001b[0m \u001b[0mstart_dt\u001b[0m\u001b[1;33m)\u001b[0m\u001b[1;33m.\u001b[0m\u001b[0mseconds\u001b[0m\u001b[1;33m/\u001b[0m\u001b[1;36m3600\u001b[0m\u001b[1;33m)\u001b[0m\u001b[1;33m)\u001b[0m\u001b[1;33m\u001b[0m\u001b[1;33m\u001b[0m\u001b[0m\n\u001b[0m\u001b[0;32m     34\u001b[0m \u001b[1;33m\u001b[0m\u001b[0m\n\u001b[0;32m     35\u001b[0m     \u001b[1;32mreturn\u001b[0m\u001b[1;33m(\u001b[0m\u001b[0mtime_float\u001b[0m\u001b[1;33m)\u001b[0m\u001b[1;33m\u001b[0m\u001b[1;33m\u001b[0m\u001b[0m\n",
      "\u001b[1;32mc:\\Users\\quee4145\\Anaconda3\\lib\\_strptime.py\u001b[0m in \u001b[0;36m_strptime_datetime\u001b[1;34m(cls, data_string, format)\u001b[0m\n\u001b[0;32m    566\u001b[0m     \"\"\"Return a class cls instance based on the input string and the\n\u001b[0;32m    567\u001b[0m     format string.\"\"\"\n\u001b[1;32m--> 568\u001b[1;33m     \u001b[0mtt\u001b[0m\u001b[1;33m,\u001b[0m \u001b[0mfraction\u001b[0m\u001b[1;33m,\u001b[0m \u001b[0mgmtoff_fraction\u001b[0m \u001b[1;33m=\u001b[0m \u001b[0m_strptime\u001b[0m\u001b[1;33m(\u001b[0m\u001b[0mdata_string\u001b[0m\u001b[1;33m,\u001b[0m \u001b[0mformat\u001b[0m\u001b[1;33m)\u001b[0m\u001b[1;33m\u001b[0m\u001b[1;33m\u001b[0m\u001b[0m\n\u001b[0m\u001b[0;32m    569\u001b[0m     \u001b[0mtzname\u001b[0m\u001b[1;33m,\u001b[0m \u001b[0mgmtoff\u001b[0m \u001b[1;33m=\u001b[0m \u001b[0mtt\u001b[0m\u001b[1;33m[\u001b[0m\u001b[1;33m-\u001b[0m\u001b[1;36m2\u001b[0m\u001b[1;33m:\u001b[0m\u001b[1;33m]\u001b[0m\u001b[1;33m\u001b[0m\u001b[1;33m\u001b[0m\u001b[0m\n\u001b[0;32m    570\u001b[0m     \u001b[0margs\u001b[0m \u001b[1;33m=\u001b[0m \u001b[0mtt\u001b[0m\u001b[1;33m[\u001b[0m\u001b[1;33m:\u001b[0m\u001b[1;36m6\u001b[0m\u001b[1;33m]\u001b[0m \u001b[1;33m+\u001b[0m \u001b[1;33m(\u001b[0m\u001b[0mfraction\u001b[0m\u001b[1;33m,\u001b[0m\u001b[1;33m)\u001b[0m\u001b[1;33m\u001b[0m\u001b[1;33m\u001b[0m\u001b[0m\n",
      "\u001b[1;32mc:\\Users\\quee4145\\Anaconda3\\lib\\_strptime.py\u001b[0m in \u001b[0;36m_strptime\u001b[1;34m(data_string, format)\u001b[0m\n\u001b[0;32m    347\u001b[0m     \u001b[0mfound\u001b[0m \u001b[1;33m=\u001b[0m \u001b[0mformat_regex\u001b[0m\u001b[1;33m.\u001b[0m\u001b[0mmatch\u001b[0m\u001b[1;33m(\u001b[0m\u001b[0mdata_string\u001b[0m\u001b[1;33m)\u001b[0m\u001b[1;33m\u001b[0m\u001b[1;33m\u001b[0m\u001b[0m\n\u001b[0;32m    348\u001b[0m     \u001b[1;32mif\u001b[0m \u001b[1;32mnot\u001b[0m \u001b[0mfound\u001b[0m\u001b[1;33m:\u001b[0m\u001b[1;33m\u001b[0m\u001b[1;33m\u001b[0m\u001b[0m\n\u001b[1;32m--> 349\u001b[1;33m         raise ValueError(\"time data %r does not match format %r\" %\n\u001b[0m\u001b[0;32m    350\u001b[0m                          (data_string, format))\n\u001b[0;32m    351\u001b[0m     \u001b[1;32mif\u001b[0m \u001b[0mlen\u001b[0m\u001b[1;33m(\u001b[0m\u001b[0mdata_string\u001b[0m\u001b[1;33m)\u001b[0m \u001b[1;33m!=\u001b[0m \u001b[0mfound\u001b[0m\u001b[1;33m.\u001b[0m\u001b[0mend\u001b[0m\u001b[1;33m(\u001b[0m\u001b[1;33m)\u001b[0m\u001b[1;33m:\u001b[0m\u001b[1;33m\u001b[0m\u001b[1;33m\u001b[0m\u001b[0m\n",
      "\u001b[1;31mValueError\u001b[0m: time data '24:00:10' does not match format '%H:%M:%S'"
     ]
    }
   ],
   "source": [
    "filename = test\n",
    "    #obtain number of header lines in the text file\n",
    "with open(filename,encoding= 'ISO-8859-1') as fin:\n",
    "    head_len = manual_header(filename)   \n",
    "    t = 0\n",
    "    techniques = []\n",
    "    m_am = A_el = cd = t_wait= np.nan\n",
    "# head lenght in the beginning of file does not count itself and thus needs to be shifted for 4 rows.\n",
    "    for line in islice(fin, 0,head_len):\n",
    "        #print(line.split(\":\")[0])\n",
    "        if line.split(\":\")[0]==\"Mass of active material \": #extract the active material mass\n",
    "            m_am = float(line.split(\":\")[1].split(\" \")[1]) \n",
    "        elif line.split(\":\")[0]==\"Electrode surface area \": #extract the electrode surface area\n",
    "            A_el = float(line.split(\":\")[1].split(\" \")[1]) \n",
    "            if A_el == 0.001:\n",
    "                print('Electrode Surface Area manually set to 1.13cm2.')\n",
    "                A_el = 1.13097\n",
    "        elif line.split(\":\")[0]==\"Cycle Definition \": #extract the electrode surface area\n",
    "            cd = line.split(\":\")[1].split(\" \")[1] \n",
    "        elif t == 1:  \n",
    "            technique = line.split(\"\\n\")[0]\n",
    "            if technique == 'Modulo Bat':\n",
    "                t=0\n",
    "                print('Modulo Bat found.')\n",
    "                continue\n",
    "            try:\n",
    "                techniques.append(tech[technique])\n",
    "                t = 0\n",
    "            except KeyError:\n",
    "                print('Unknown technique found: '+str(technique))\n",
    "                t = 0\n",
    "        elif line.split(\":\")[0]==\"Technique \":\n",
    "            t = 1\n",
    "        elif line.split(\":\")[0]== 'td (h':\n",
    "            if np.isnan(t_wait) == False:\n",
    "                print('Several waiting times found.')\n",
    "                t_wait_2 = datetime(line.split(\" \")[11])\n",
    "            t_wait = datetime(line.split(\" \")[11])\n",
    "        elif line.split(\":\")[0]== 'tR (h':\n",
    "            # GCPL and OCV both have a tR entry in the meta file. Necessary to distinguish both\n",
    "            if techniques[-1] == 'GCPL':\n",
    "                t_GCPL = []\n",
    "                for entry in line.split('        '):\n",
    "                    try:\n",
    "                        t_GCPL.append(datetime(entry.strip()))\n",
    "                    except ValueError:\n",
    "                        pass\n",
    "                \n",
    "            else:\n",
    "                if np.isnan(t_wait) == False:\n",
    "                    print('Several waiting times found.')\n",
    "                    t_wait_2 = datetime(line.split(\" \")[11])\n",
    "                t_wait = datetime(line.split(\" \")[11])\n",
    "        elif line[0:9]=='ctrl_type':\n",
    "            # Add all the techniques from the MB setting to techniques list.\n",
    "            MB_tech = line[9:].split(' ')\n",
    "            for t_i in MB_tech[:-2]:\n",
    "                if t_i != '':\n",
    "                    techniques.append(t_i)\n",
    "\n",
    "#create a dictionary with all the important meta data\n",
    "meta_data = {\n",
    "    'header': head_len,\n",
    "    'active material mass': m_am,\n",
    "    'electrode surface area': A_el,\n",
    "    'protocol': techniques,\n",
    "    'cd' : cd,\n",
    "    'waiting time' : t_wait\n",
    "}\n",
    "try:\n",
    "        meta_data['waiting time 2'] = t_wait_2\n",
    "except NameError:\n",
    "    pass  \n",
    "try:\n",
    "        meta_data['t_GCPL'] = t_GCPL\n",
    "except NameError:\n",
    "    pass             \n",
    "\n",
    "return(meta_data)"
   ]
  },
  {
   "cell_type": "code",
   "execution_count": 39,
   "metadata": {},
   "outputs": [],
   "source": [
    "time = '24:00:10'"
   ]
  },
  {
   "cell_type": "code",
   "execution_count": 40,
   "metadata": {},
   "outputs": [
    {
     "ename": "ValueError",
     "evalue": "time data '24:00:10' does not match format '%H:%M:%S'",
     "output_type": "error",
     "traceback": [
      "\u001b[1;31m---------------------------------------------------------------------------\u001b[0m",
      "\u001b[1;31mValueError\u001b[0m                                Traceback (most recent call last)",
      "\u001b[1;32m<ipython-input-40-48939991c84b>\u001b[0m in \u001b[0;36m<module>\u001b[1;34m\u001b[0m\n\u001b[0;32m      1\u001b[0m \u001b[0mstart_dt\u001b[0m \u001b[1;33m=\u001b[0m \u001b[0mdt\u001b[0m\u001b[1;33m.\u001b[0m\u001b[0mdatetime\u001b[0m\u001b[1;33m.\u001b[0m\u001b[0mstrptime\u001b[0m\u001b[1;33m(\u001b[0m\u001b[1;34m\"00:00:00\"\u001b[0m\u001b[1;33m,\u001b[0m \u001b[1;34m'%H:%M:%S'\u001b[0m\u001b[1;33m)\u001b[0m\u001b[1;33m\u001b[0m\u001b[1;33m\u001b[0m\u001b[0m\n\u001b[1;32m----> 2\u001b[1;33m \u001b[0mtime_float\u001b[0m \u001b[1;33m=\u001b[0m \u001b[0mfloat\u001b[0m\u001b[1;33m(\u001b[0m\u001b[1;34m'{:0.3f}'\u001b[0m\u001b[1;33m.\u001b[0m\u001b[0mformat\u001b[0m\u001b[1;33m(\u001b[0m\u001b[1;33m(\u001b[0m\u001b[0mdt\u001b[0m\u001b[1;33m.\u001b[0m\u001b[0mdatetime\u001b[0m\u001b[1;33m.\u001b[0m\u001b[0mstrptime\u001b[0m\u001b[1;33m(\u001b[0m\u001b[0mtime\u001b[0m\u001b[1;33m,\u001b[0m \u001b[1;34m'%H:%M:%S'\u001b[0m\u001b[1;33m)\u001b[0m \u001b[1;33m-\u001b[0m \u001b[0mstart_dt\u001b[0m\u001b[1;33m)\u001b[0m\u001b[1;33m.\u001b[0m\u001b[0mseconds\u001b[0m\u001b[1;33m/\u001b[0m\u001b[1;36m3600\u001b[0m\u001b[1;33m)\u001b[0m\u001b[1;33m)\u001b[0m\u001b[1;33m\u001b[0m\u001b[1;33m\u001b[0m\u001b[0m\n\u001b[0m",
      "\u001b[1;32mc:\\Users\\quee4145\\Anaconda3\\lib\\_strptime.py\u001b[0m in \u001b[0;36m_strptime_datetime\u001b[1;34m(cls, data_string, format)\u001b[0m\n\u001b[0;32m    566\u001b[0m     \"\"\"Return a class cls instance based on the input string and the\n\u001b[0;32m    567\u001b[0m     format string.\"\"\"\n\u001b[1;32m--> 568\u001b[1;33m     \u001b[0mtt\u001b[0m\u001b[1;33m,\u001b[0m \u001b[0mfraction\u001b[0m\u001b[1;33m,\u001b[0m \u001b[0mgmtoff_fraction\u001b[0m \u001b[1;33m=\u001b[0m \u001b[0m_strptime\u001b[0m\u001b[1;33m(\u001b[0m\u001b[0mdata_string\u001b[0m\u001b[1;33m,\u001b[0m \u001b[0mformat\u001b[0m\u001b[1;33m)\u001b[0m\u001b[1;33m\u001b[0m\u001b[1;33m\u001b[0m\u001b[0m\n\u001b[0m\u001b[0;32m    569\u001b[0m     \u001b[0mtzname\u001b[0m\u001b[1;33m,\u001b[0m \u001b[0mgmtoff\u001b[0m \u001b[1;33m=\u001b[0m \u001b[0mtt\u001b[0m\u001b[1;33m[\u001b[0m\u001b[1;33m-\u001b[0m\u001b[1;36m2\u001b[0m\u001b[1;33m:\u001b[0m\u001b[1;33m]\u001b[0m\u001b[1;33m\u001b[0m\u001b[1;33m\u001b[0m\u001b[0m\n\u001b[0;32m    570\u001b[0m     \u001b[0margs\u001b[0m \u001b[1;33m=\u001b[0m \u001b[0mtt\u001b[0m\u001b[1;33m[\u001b[0m\u001b[1;33m:\u001b[0m\u001b[1;36m6\u001b[0m\u001b[1;33m]\u001b[0m \u001b[1;33m+\u001b[0m \u001b[1;33m(\u001b[0m\u001b[0mfraction\u001b[0m\u001b[1;33m,\u001b[0m\u001b[1;33m)\u001b[0m\u001b[1;33m\u001b[0m\u001b[1;33m\u001b[0m\u001b[0m\n",
      "\u001b[1;32mc:\\Users\\quee4145\\Anaconda3\\lib\\_strptime.py\u001b[0m in \u001b[0;36m_strptime\u001b[1;34m(data_string, format)\u001b[0m\n\u001b[0;32m    347\u001b[0m     \u001b[0mfound\u001b[0m \u001b[1;33m=\u001b[0m \u001b[0mformat_regex\u001b[0m\u001b[1;33m.\u001b[0m\u001b[0mmatch\u001b[0m\u001b[1;33m(\u001b[0m\u001b[0mdata_string\u001b[0m\u001b[1;33m)\u001b[0m\u001b[1;33m\u001b[0m\u001b[1;33m\u001b[0m\u001b[0m\n\u001b[0;32m    348\u001b[0m     \u001b[1;32mif\u001b[0m \u001b[1;32mnot\u001b[0m \u001b[0mfound\u001b[0m\u001b[1;33m:\u001b[0m\u001b[1;33m\u001b[0m\u001b[1;33m\u001b[0m\u001b[0m\n\u001b[1;32m--> 349\u001b[1;33m         raise ValueError(\"time data %r does not match format %r\" %\n\u001b[0m\u001b[0;32m    350\u001b[0m                          (data_string, format))\n\u001b[0;32m    351\u001b[0m     \u001b[1;32mif\u001b[0m \u001b[0mlen\u001b[0m\u001b[1;33m(\u001b[0m\u001b[0mdata_string\u001b[0m\u001b[1;33m)\u001b[0m \u001b[1;33m!=\u001b[0m \u001b[0mfound\u001b[0m\u001b[1;33m.\u001b[0m\u001b[0mend\u001b[0m\u001b[1;33m(\u001b[0m\u001b[1;33m)\u001b[0m\u001b[1;33m:\u001b[0m\u001b[1;33m\u001b[0m\u001b[1;33m\u001b[0m\u001b[0m\n",
      "\u001b[1;31mValueError\u001b[0m: time data '24:00:10' does not match format '%H:%M:%S'"
     ]
    }
   ],
   "source": [
    "start_dt = dt.datetime.strptime(\"00:00:00\", '%H:%M:%S')\n",
    "time_float = float('{:0.3f}'.format((dt.datetime.strptime(time, '%H:%M:%S') - start_dt).seconds/3600))"
   ]
  },
  {
   "cell_type": "code",
   "execution_count": 42,
   "metadata": {},
   "outputs": [
    {
     "data": {
      "text/plain": [
       "1"
      ]
     },
     "execution_count": 42,
     "metadata": {},
     "output_type": "execute_result"
    }
   ],
   "source": [
    "def convert_time(time_str):\n",
    "    try:\n",
    "        dt_timeform = dt.datetime.strptime(time, '%H:%M:%S')\n",
    "    except ValueError:\n",
    "        h_remain = int(time.split(':')[0])-23\n",
    "        \n",
    "    return(dt_timeform)"
   ]
  },
  {
   "cell_type": "code",
   "execution_count": 35,
   "metadata": {},
   "outputs": [
    {
     "data": {
      "text/plain": [
       "datetime.datetime(1900, 1, 1, 0, 0)"
      ]
     },
     "execution_count": 35,
     "metadata": {},
     "output_type": "execute_result"
    }
   ],
   "source": [
    "start_dt"
   ]
  },
  {
   "cell_type": "code",
   "execution_count": 26,
   "metadata": {},
   "outputs": [
    {
     "ename": "ValueError",
     "evalue": "time data '24:00:10' does not match format '%H:%M:%S'",
     "output_type": "error",
     "traceback": [
      "\u001b[1;31m---------------------------------------------------------------------------\u001b[0m",
      "\u001b[1;31mValueError\u001b[0m                                Traceback (most recent call last)",
      "\u001b[1;32m<ipython-input-26-7752cd2a0ede>\u001b[0m in \u001b[0;36m<module>\u001b[1;34m\u001b[0m\n\u001b[1;32m----> 1\u001b[1;33m \u001b[0mdt\u001b[0m\u001b[1;33m.\u001b[0m\u001b[0mdatetime\u001b[0m\u001b[1;33m.\u001b[0m\u001b[0mstrptime\u001b[0m\u001b[1;33m(\u001b[0m\u001b[1;34m'24:00:10'\u001b[0m\u001b[1;33m,\u001b[0m \u001b[1;34m'%H:%M:%S'\u001b[0m\u001b[1;33m)\u001b[0m\u001b[1;33m\u001b[0m\u001b[1;33m\u001b[0m\u001b[0m\n\u001b[0m",
      "\u001b[1;32mc:\\Users\\quee4145\\Anaconda3\\lib\\_strptime.py\u001b[0m in \u001b[0;36m_strptime_datetime\u001b[1;34m(cls, data_string, format)\u001b[0m\n\u001b[0;32m    566\u001b[0m     \"\"\"Return a class cls instance based on the input string and the\n\u001b[0;32m    567\u001b[0m     format string.\"\"\"\n\u001b[1;32m--> 568\u001b[1;33m     \u001b[0mtt\u001b[0m\u001b[1;33m,\u001b[0m \u001b[0mfraction\u001b[0m\u001b[1;33m,\u001b[0m \u001b[0mgmtoff_fraction\u001b[0m \u001b[1;33m=\u001b[0m \u001b[0m_strptime\u001b[0m\u001b[1;33m(\u001b[0m\u001b[0mdata_string\u001b[0m\u001b[1;33m,\u001b[0m \u001b[0mformat\u001b[0m\u001b[1;33m)\u001b[0m\u001b[1;33m\u001b[0m\u001b[1;33m\u001b[0m\u001b[0m\n\u001b[0m\u001b[0;32m    569\u001b[0m     \u001b[0mtzname\u001b[0m\u001b[1;33m,\u001b[0m \u001b[0mgmtoff\u001b[0m \u001b[1;33m=\u001b[0m \u001b[0mtt\u001b[0m\u001b[1;33m[\u001b[0m\u001b[1;33m-\u001b[0m\u001b[1;36m2\u001b[0m\u001b[1;33m:\u001b[0m\u001b[1;33m]\u001b[0m\u001b[1;33m\u001b[0m\u001b[1;33m\u001b[0m\u001b[0m\n\u001b[0;32m    570\u001b[0m     \u001b[0margs\u001b[0m \u001b[1;33m=\u001b[0m \u001b[0mtt\u001b[0m\u001b[1;33m[\u001b[0m\u001b[1;33m:\u001b[0m\u001b[1;36m6\u001b[0m\u001b[1;33m]\u001b[0m \u001b[1;33m+\u001b[0m \u001b[1;33m(\u001b[0m\u001b[0mfraction\u001b[0m\u001b[1;33m,\u001b[0m\u001b[1;33m)\u001b[0m\u001b[1;33m\u001b[0m\u001b[1;33m\u001b[0m\u001b[0m\n",
      "\u001b[1;32mc:\\Users\\quee4145\\Anaconda3\\lib\\_strptime.py\u001b[0m in \u001b[0;36m_strptime\u001b[1;34m(data_string, format)\u001b[0m\n\u001b[0;32m    347\u001b[0m     \u001b[0mfound\u001b[0m \u001b[1;33m=\u001b[0m \u001b[0mformat_regex\u001b[0m\u001b[1;33m.\u001b[0m\u001b[0mmatch\u001b[0m\u001b[1;33m(\u001b[0m\u001b[0mdata_string\u001b[0m\u001b[1;33m)\u001b[0m\u001b[1;33m\u001b[0m\u001b[1;33m\u001b[0m\u001b[0m\n\u001b[0;32m    348\u001b[0m     \u001b[1;32mif\u001b[0m \u001b[1;32mnot\u001b[0m \u001b[0mfound\u001b[0m\u001b[1;33m:\u001b[0m\u001b[1;33m\u001b[0m\u001b[1;33m\u001b[0m\u001b[0m\n\u001b[1;32m--> 349\u001b[1;33m         raise ValueError(\"time data %r does not match format %r\" %\n\u001b[0m\u001b[0;32m    350\u001b[0m                          (data_string, format))\n\u001b[0;32m    351\u001b[0m     \u001b[1;32mif\u001b[0m \u001b[0mlen\u001b[0m\u001b[1;33m(\u001b[0m\u001b[0mdata_string\u001b[0m\u001b[1;33m)\u001b[0m \u001b[1;33m!=\u001b[0m \u001b[0mfound\u001b[0m\u001b[1;33m.\u001b[0m\u001b[0mend\u001b[0m\u001b[1;33m(\u001b[0m\u001b[1;33m)\u001b[0m\u001b[1;33m:\u001b[0m\u001b[1;33m\u001b[0m\u001b[1;33m\u001b[0m\u001b[0m\n",
      "\u001b[1;31mValueError\u001b[0m: time data '24:00:10' does not match format '%H:%M:%S'"
     ]
    }
   ],
   "source": [
    "dt.datetime.strptime('24:00:10', '%H:%M:%S')"
   ]
  },
  {
   "cell_type": "code",
   "execution_count": null,
   "metadata": {},
   "outputs": [],
   "source": []
  }
 ],
 "metadata": {
  "kernelspec": {
   "display_name": "Python 3.8.5 ('base')",
   "language": "python",
   "name": "python3"
  },
  "language_info": {
   "codemirror_mode": {
    "name": "ipython",
    "version": 3
   },
   "file_extension": ".py",
   "mimetype": "text/x-python",
   "name": "python",
   "nbconvert_exporter": "python",
   "pygments_lexer": "ipython3",
   "version": "3.8.5"
  },
  "orig_nbformat": 4,
  "vscode": {
   "interpreter": {
    "hash": "568d8f4409f2ec49567e5eb42264dd1e3d35e51f40fc9c147044b71c2fbce6ff"
   }
  }
 },
 "nbformat": 4,
 "nbformat_minor": 2
}
